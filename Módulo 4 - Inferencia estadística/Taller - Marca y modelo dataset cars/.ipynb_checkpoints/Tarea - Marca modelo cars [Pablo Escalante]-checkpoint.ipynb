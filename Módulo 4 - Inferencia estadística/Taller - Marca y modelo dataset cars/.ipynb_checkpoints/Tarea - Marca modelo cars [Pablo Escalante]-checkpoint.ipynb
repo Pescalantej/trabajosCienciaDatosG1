{
 "cells": [
  {
   "cell_type": "markdown",
   "id": "b8f6a05c",
   "metadata": {},
   "source": [
    "### Tarea\n",
    "- Hacer lo mismo que se hizo con la marca Audi y modelo Q7, pero con otros valores.\n",
    "- Sacar conclusiones."
   ]
  },
  {
   "cell_type": "code",
   "execution_count": 12,
   "id": "35732578",
   "metadata": {
    "scrolled": true
   },
   "outputs": [],
   "source": [
    "import pandas as pd\n",
    "import seaborn as sns\n",
    "import matplotlib.pyplot as plt"
   ]
  },
  {
   "cell_type": "code",
   "execution_count": 13,
   "id": "55fa3cf0",
   "metadata": {},
   "outputs": [],
   "source": [
    "df = pd.read_csv('cars.csv')"
   ]
  },
  {
   "cell_type": "code",
   "execution_count": 14,
   "id": "e9f47e66",
   "metadata": {},
   "outputs": [],
   "source": [
    "# Busquemos un auto de la marca Subaru y modelo Impreza\n",
    "impreza_df = df[(df['manufacturer_name']== 'Subaru') & (df['model_name'] == 'Impreza')]"
   ]
  },
  {
   "cell_type": "code",
   "execution_count": 15,
   "id": "e1d3254c",
   "metadata": {},
   "outputs": [
    {
     "data": {
      "text/html": [
       "<div>\n",
       "<style scoped>\n",
       "    .dataframe tbody tr th:only-of-type {\n",
       "        vertical-align: middle;\n",
       "    }\n",
       "\n",
       "    .dataframe tbody tr th {\n",
       "        vertical-align: top;\n",
       "    }\n",
       "\n",
       "    .dataframe thead th {\n",
       "        text-align: right;\n",
       "    }\n",
       "</style>\n",
       "<table border=\"1\" class=\"dataframe\">\n",
       "  <thead>\n",
       "    <tr style=\"text-align: right;\">\n",
       "      <th></th>\n",
       "      <th>manufacturer_name</th>\n",
       "      <th>model_name</th>\n",
       "      <th>transmission</th>\n",
       "      <th>color</th>\n",
       "      <th>odometer_value</th>\n",
       "      <th>year_produced</th>\n",
       "      <th>engine_fuel</th>\n",
       "      <th>engine_has_gas</th>\n",
       "      <th>engine_type</th>\n",
       "      <th>engine_capacity</th>\n",
       "      <th>...</th>\n",
       "      <th>feature_1</th>\n",
       "      <th>feature_2</th>\n",
       "      <th>feature_3</th>\n",
       "      <th>feature_4</th>\n",
       "      <th>feature_5</th>\n",
       "      <th>feature_6</th>\n",
       "      <th>feature_7</th>\n",
       "      <th>feature_8</th>\n",
       "      <th>feature_9</th>\n",
       "      <th>duration_listed</th>\n",
       "    </tr>\n",
       "  </thead>\n",
       "  <tbody>\n",
       "    <tr>\n",
       "      <th>3</th>\n",
       "      <td>Subaru</td>\n",
       "      <td>Impreza</td>\n",
       "      <td>mechanical</td>\n",
       "      <td>blue</td>\n",
       "      <td>10000</td>\n",
       "      <td>1999</td>\n",
       "      <td>gasoline</td>\n",
       "      <td>False</td>\n",
       "      <td>gasoline</td>\n",
       "      <td>3.0</td>\n",
       "      <td>...</td>\n",
       "      <td>False</td>\n",
       "      <td>False</td>\n",
       "      <td>False</td>\n",
       "      <td>False</td>\n",
       "      <td>False</td>\n",
       "      <td>False</td>\n",
       "      <td>False</td>\n",
       "      <td>False</td>\n",
       "      <td>False</td>\n",
       "      <td>86</td>\n",
       "    </tr>\n",
       "    <tr>\n",
       "      <th>17</th>\n",
       "      <td>Subaru</td>\n",
       "      <td>Impreza</td>\n",
       "      <td>mechanical</td>\n",
       "      <td>blue</td>\n",
       "      <td>191000</td>\n",
       "      <td>2005</td>\n",
       "      <td>gasoline</td>\n",
       "      <td>False</td>\n",
       "      <td>gasoline</td>\n",
       "      <td>2.0</td>\n",
       "      <td>...</td>\n",
       "      <td>True</td>\n",
       "      <td>False</td>\n",
       "      <td>False</td>\n",
       "      <td>False</td>\n",
       "      <td>False</td>\n",
       "      <td>False</td>\n",
       "      <td>False</td>\n",
       "      <td>False</td>\n",
       "      <td>True</td>\n",
       "      <td>21</td>\n",
       "    </tr>\n",
       "    <tr>\n",
       "      <th>28</th>\n",
       "      <td>Subaru</td>\n",
       "      <td>Impreza</td>\n",
       "      <td>mechanical</td>\n",
       "      <td>black</td>\n",
       "      <td>300000</td>\n",
       "      <td>1999</td>\n",
       "      <td>gasoline</td>\n",
       "      <td>False</td>\n",
       "      <td>gasoline</td>\n",
       "      <td>2.0</td>\n",
       "      <td>...</td>\n",
       "      <td>False</td>\n",
       "      <td>False</td>\n",
       "      <td>False</td>\n",
       "      <td>False</td>\n",
       "      <td>False</td>\n",
       "      <td>False</td>\n",
       "      <td>False</td>\n",
       "      <td>False</td>\n",
       "      <td>True</td>\n",
       "      <td>581</td>\n",
       "    </tr>\n",
       "    <tr>\n",
       "      <th>32</th>\n",
       "      <td>Subaru</td>\n",
       "      <td>Impreza</td>\n",
       "      <td>mechanical</td>\n",
       "      <td>violet</td>\n",
       "      <td>340000</td>\n",
       "      <td>1993</td>\n",
       "      <td>gasoline</td>\n",
       "      <td>False</td>\n",
       "      <td>gasoline</td>\n",
       "      <td>1.6</td>\n",
       "      <td>...</td>\n",
       "      <td>False</td>\n",
       "      <td>False</td>\n",
       "      <td>False</td>\n",
       "      <td>False</td>\n",
       "      <td>False</td>\n",
       "      <td>False</td>\n",
       "      <td>False</td>\n",
       "      <td>False</td>\n",
       "      <td>True</td>\n",
       "      <td>91</td>\n",
       "    </tr>\n",
       "    <tr>\n",
       "      <th>34</th>\n",
       "      <td>Subaru</td>\n",
       "      <td>Impreza</td>\n",
       "      <td>mechanical</td>\n",
       "      <td>silver</td>\n",
       "      <td>118000</td>\n",
       "      <td>2011</td>\n",
       "      <td>gasoline</td>\n",
       "      <td>False</td>\n",
       "      <td>gasoline</td>\n",
       "      <td>2.5</td>\n",
       "      <td>...</td>\n",
       "      <td>False</td>\n",
       "      <td>False</td>\n",
       "      <td>False</td>\n",
       "      <td>False</td>\n",
       "      <td>False</td>\n",
       "      <td>False</td>\n",
       "      <td>False</td>\n",
       "      <td>False</td>\n",
       "      <td>False</td>\n",
       "      <td>174</td>\n",
       "    </tr>\n",
       "  </tbody>\n",
       "</table>\n",
       "<p>5 rows × 30 columns</p>\n",
       "</div>"
      ],
      "text/plain": [
       "   manufacturer_name model_name transmission   color  odometer_value  \\\n",
       "3             Subaru    Impreza   mechanical    blue           10000   \n",
       "17            Subaru    Impreza   mechanical    blue          191000   \n",
       "28            Subaru    Impreza   mechanical   black          300000   \n",
       "32            Subaru    Impreza   mechanical  violet          340000   \n",
       "34            Subaru    Impreza   mechanical  silver          118000   \n",
       "\n",
       "    year_produced engine_fuel  engine_has_gas engine_type  engine_capacity  \\\n",
       "3            1999    gasoline           False    gasoline              3.0   \n",
       "17           2005    gasoline           False    gasoline              2.0   \n",
       "28           1999    gasoline           False    gasoline              2.0   \n",
       "32           1993    gasoline           False    gasoline              1.6   \n",
       "34           2011    gasoline           False    gasoline              2.5   \n",
       "\n",
       "    ... feature_1  feature_2 feature_3 feature_4  feature_5  feature_6  \\\n",
       "3   ...     False      False     False     False      False      False   \n",
       "17  ...      True      False     False     False      False      False   \n",
       "28  ...     False      False     False     False      False      False   \n",
       "32  ...     False      False     False     False      False      False   \n",
       "34  ...     False      False     False     False      False      False   \n",
       "\n",
       "   feature_7  feature_8  feature_9  duration_listed  \n",
       "3      False      False      False               86  \n",
       "17     False      False       True               21  \n",
       "28     False      False       True              581  \n",
       "32     False      False       True               91  \n",
       "34     False      False      False              174  \n",
       "\n",
       "[5 rows x 30 columns]"
      ]
     },
     "execution_count": 15,
     "metadata": {},
     "output_type": "execute_result"
    }
   ],
   "source": [
    "impreza_df.head()"
   ]
  },
  {
   "cell_type": "code",
   "execution_count": 16,
   "id": "ade1df3f",
   "metadata": {},
   "outputs": [
    {
     "data": {
      "text/plain": [
       "(42, 30)"
      ]
     },
     "execution_count": 16,
     "metadata": {},
     "output_type": "execute_result"
    }
   ],
   "source": [
    "# Veamos el tamaño del DataFrame\n",
    "impreza_df.shape"
   ]
  },
  {
   "cell_type": "code",
   "execution_count": 17,
   "id": "02050adf",
   "metadata": {
    "scrolled": true
   },
   "outputs": [
    {
     "data": {
      "image/png": "[encoded data removed]",
      "text/plain": [
       "<Figure size 432x288 with 1 Axes>"
      ]
     },
     "metadata": {
      "needs_background": "light"
     },
     "output_type": "display_data"
    }
   ],
   "source": [
    "# Veamos la distribución de precios para el modelo Impresa sin considerar el año de producción.\n",
    "sns.histplot(impreza_df, x='price_usd', color = 'g')\n",
    "plt.show()"
   ]
  },
  {
   "cell_type": "code",
   "execution_count": 18,
   "id": "462618f9",
   "metadata": {},
   "outputs": [
    {
     "name": "stdout",
     "output_type": "stream",
     "text": [
      "[1993 1994 1997 1998 1999 2001 2002 2003 2005 2006 2007 2008 2009 2010\n",
      " 2011 2012 2016]\n"
     ]
    },
    {
     "data": {
      "text/plain": [
       "17"
      ]
     },
     "execution_count": 18,
     "metadata": {},
     "output_type": "execute_result"
    }
   ],
   "source": [
    "# Vamos a revisar los posibles valores que toma la columna year_produced\n",
    "years = impreza_df['year_produced'].unique()\n",
    "years.sort()\n",
    "print(years)\n",
    "len(years) # Números de etiquetas que tendrá nuestra leyenda"
   ]
  },
  {
   "cell_type": "markdown",
   "id": "86a3f2dd",
   "metadata": {},
   "source": [
    "- Como tenemos 17 elementos en la leyenda, necesitaremos ubicarla en un lugar sin que tape los datos.\n",
    "- El manejo de la leyenda para histplot se hace más sencillo si definimos una función (*move_legend*).\n",
    "- Ref: https://github.com/mwaskom/seaborn/issues/2280"
   ]
  },
  {
   "cell_type": "code",
   "execution_count": 19,
   "id": "49a1576f",
   "metadata": {},
   "outputs": [],
   "source": [
    "# Función que permite trabajar de forma más sencilla con la leyenda de histplot.\n",
    "def move_legend(ax, new_loc, **kws):\n",
    "    old_legend = ax.legend_\n",
    "    handles = old_legend.legendHandles\n",
    "    labels = [t.get_text() for t in old_legend.get_texts()]\n",
    "    title = old_legend.get_title().get_text()\n",
    "    ax.legend(handles, labels, loc=new_loc, title=title, **kws)"
   ]
  },
  {
   "cell_type": "code",
   "execution_count": 20,
   "id": "fea0816b",
   "metadata": {
    "scrolled": false
   },
   "outputs": [
    {
     "data": {
      "image/png": "[encoded data removed]",
      "text/plain": [
       "<Figure size 432x288 with 1 Axes>"
      ]
     },
     "metadata": {
      "needs_background": "light"
     },
     "output_type": "display_data"
    }
   ],
   "source": [
    "# Grafiquemos la distribución del precio del Impreza considerando el año de producción.\n",
    "fig, ax = plt.subplots()\n",
    "sns.histplot(impreza_df, x='price_usd', hue = 'year_produced', multiple = 'stack')\n",
    "move_legend(ax, \"upper left\", bbox_to_anchor=(1, 1.03), ncol=1, title_fontsize=10)"
   ]
  },
  {
   "cell_type": "code",
   "execution_count": 21,
   "id": "01507c08",
   "metadata": {},
   "outputs": [
    {
     "data": {
      "text/plain": [
       "count       42.000000\n",
       "mean      6863.427857\n",
       "std       4044.388600\n",
       "min        948.500000\n",
       "25%       3449.750000\n",
       "50%       6575.000000\n",
       "75%       9794.250000\n",
       "max      14950.000000\n",
       "Name: price_usd, dtype: float64"
      ]
     },
     "execution_count": 21,
     "metadata": {},
     "output_type": "execute_result"
    }
   ],
   "source": [
    "# Revisemos otros valores de interés\n",
    "impreza_df['price_usd'].describe()"
   ]
  },
  {
   "cell_type": "markdown",
   "id": "0a9a32fc",
   "metadata": {},
   "source": [
    "#### Conclusiones\n",
    "- En general los Impreza producidos en años más antiguos tienen un precio menor. Esto es un comportamiento esperable.\n",
    "- Los impreza producidos antes del año 2000 tienen un valor aproximado entre 1.000 y 5.000 USD.\n",
    "- Los Impreza producidos después del año 2010 tienen un valor entre 13.000 y 15.000 USD.\n",
    "- En promedio un Impreza (independiente del año de producción) costará  6.863 USD."
   ]
  }
 ],
 "metadata": {
  "kernelspec": {
   "display_name": "Python 3",
   "language": "python",
   "name": "python3"
  },
  "language_info": {
   "codemirror_mode": {
    "name": "ipython",
    "version": 3
   },
   "file_extension": ".py",
   "mimetype": "text/x-python",
   "name": "python",
   "nbconvert_exporter": "python",
   "pygments_lexer": "ipython3",
   "version": "3.8.8"
  }
 },
 "nbformat": 4,
 "nbformat_minor": 5
}
