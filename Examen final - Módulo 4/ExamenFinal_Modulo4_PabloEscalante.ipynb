{
 "cells": [
  {
   "cell_type": "markdown",
   "id": "690b6495",
   "metadata": {},
   "source": [
    "# Examen Final - Modulo 4"
   ]
  },
  {
   "cell_type": "markdown",
   "id": "e2174882",
   "metadata": {},
   "source": [
    "*Nombre: Pablo Escalante*<br>\n",
    "*Fecha: 10-01-2022*"
   ]
  },
  {
   "cell_type": "markdown",
   "id": "f074e6a7",
   "metadata": {},
   "source": [
    "## Información adicional\n",
    "- Escoja un data set el cual puede descargar de internet o escoger de la lista de data set de seaborn.\n",
    "    \n",
    "    Ejemplo:<br>\n",
    "    *import seaborn as sns<br>\n",
    "    datasets = sns.get_dataset_names()*\n",
    "\n",
    "\n",
    "- **Nota**: lo que se pretende en cada una de las partes es ver el análisis del alumno y las conclusiones, se valorara aportes de los alumnos en cuanto gráficos o algún otro tipo de análisis que pueda aportar de investigacion. Por ejemplo obteniendo el coeficiente de correlación.\n",
    "\n",
    "\n",
    "- No se pueden usar los siguientes datasets: iris, cars, diabetes.\n",
    "\n",
    "\n",
    "- Tomarse el tiempo adecuado para elegir el dataset."
   ]
  },
  {
   "cell_type": "code",
   "execution_count": 1,
   "id": "2b29eb6a",
   "metadata": {},
   "outputs": [
    {
     "data": {
      "text/plain": [
       "['anagrams',\n",
       " 'anscombe',\n",
       " 'attention',\n",
       " 'brain_networks',\n",
       " 'car_crashes',\n",
       " 'diamonds',\n",
       " 'dots',\n",
       " 'exercise',\n",
       " 'flights',\n",
       " 'fmri',\n",
       " 'gammas',\n",
       " 'geyser',\n",
       " 'iris',\n",
       " 'mpg',\n",
       " 'penguins',\n",
       " 'planets',\n",
       " 'taxis',\n",
       " 'tips',\n",
       " 'titanic']"
      ]
     },
     "execution_count": 1,
     "metadata": {},
     "output_type": "execute_result"
    }
   ],
   "source": [
    "# Datasets disponibles en Seaborn\n",
    "import seaborn as sns\n",
    "datasets = sns.get_dataset_names()\n",
    "datasets"
   ]
  },
  {
   "cell_type": "markdown",
   "id": "70a8ae14",
   "metadata": {},
   "source": [
    "## 1. Primera parte: Medidas de tendencia central\n",
    "\n",
    "- Una vez escogido el data set calcule las medidas de tendencia central con una columna con datos numéricos. Es decir tome un Análisis univariado de alguna variable y calcule los estadísticos y determine que tipo de distribucion tiene ( graficos).\n",
    "\n",
    "\n",
    "- Tome por ejemplo el archivo de **“Medidas de tendencia central”**, realice los analisis y conclusiones. \n",
    "\n",
    "\n",
    "- Analizar a lo menos 2-3 columnas.\n"
   ]
  },
  {
   "cell_type": "markdown",
   "id": "73a9dc75",
   "metadata": {},
   "source": [
    "### Desarrollo"
   ]
  },
  {
   "cell_type": "markdown",
   "id": "ac36a902",
   "metadata": {},
   "source": [
    "#### Exploración de los datos"
   ]
  },
  {
   "cell_type": "code",
   "execution_count": 2,
   "id": "1665679c",
   "metadata": {},
   "outputs": [],
   "source": [
    "# Importación de librerías\n",
    "import numpy as np\n",
    "import pandas as pd\n",
    "import matplotlib.pyplot as plt\n",
    "import seaborn as sns"
   ]
  },
  {
   "cell_type": "markdown",
   "id": "71ee7143",
   "metadata": {},
   "source": [
    "Vamos a trabajar con el dataset *winequality-red.csv*, el cual puede ser encontrado en la siguiente url: https://www.kaggle.com/uciml/red-wine-quality-cortez-et-al-2009.\n",
    "Este dataset, está compuesto por once columnas relacionadas con las características químicas de los vinos de tipo tinto, más una columna relacionada a la calidad de dicho vino."
   ]
  },
  {
   "cell_type": "code",
   "execution_count": 3,
   "id": "2d442b52",
   "metadata": {},
   "outputs": [
    {
     "data": {
      "text/html": [
       "<div>\n",
       "<style scoped>\n",
       "    .dataframe tbody tr th:only-of-type {\n",
       "        vertical-align: middle;\n",
       "    }\n",
       "\n",
       "    .dataframe tbody tr th {\n",
       "        vertical-align: top;\n",
       "    }\n",
       "\n",
       "    .dataframe thead th {\n",
       "        text-align: right;\n",
       "    }\n",
       "</style>\n",
       "<table border=\"1\" class=\"dataframe\">\n",
       "  <thead>\n",
       "    <tr style=\"text-align: right;\">\n",
       "      <th></th>\n",
       "      <th>fixed acidity</th>\n",
       "      <th>volatile acidity</th>\n",
       "      <th>citric acid</th>\n",
       "      <th>residual sugar</th>\n",
       "      <th>chlorides</th>\n",
       "      <th>free sulfur dioxide</th>\n",
       "      <th>total sulfur dioxide</th>\n",
       "      <th>density</th>\n",
       "      <th>pH</th>\n",
       "      <th>sulphates</th>\n",
       "      <th>alcohol</th>\n",
       "      <th>quality</th>\n",
       "    </tr>\n",
       "  </thead>\n",
       "  <tbody>\n",
       "    <tr>\n",
       "      <th>0</th>\n",
       "      <td>7.4</td>\n",
       "      <td>0.70</td>\n",
       "      <td>0.00</td>\n",
       "      <td>1.9</td>\n",
       "      <td>0.076</td>\n",
       "      <td>11.0</td>\n",
       "      <td>34.0</td>\n",
       "      <td>0.9978</td>\n",
       "      <td>3.51</td>\n",
       "      <td>0.56</td>\n",
       "      <td>9.4</td>\n",
       "      <td>5</td>\n",
       "    </tr>\n",
       "    <tr>\n",
       "      <th>1</th>\n",
       "      <td>7.8</td>\n",
       "      <td>0.88</td>\n",
       "      <td>0.00</td>\n",
       "      <td>2.6</td>\n",
       "      <td>0.098</td>\n",
       "      <td>25.0</td>\n",
       "      <td>67.0</td>\n",
       "      <td>0.9968</td>\n",
       "      <td>3.20</td>\n",
       "      <td>0.68</td>\n",
       "      <td>9.8</td>\n",
       "      <td>5</td>\n",
       "    </tr>\n",
       "    <tr>\n",
       "      <th>2</th>\n",
       "      <td>7.8</td>\n",
       "      <td>0.76</td>\n",
       "      <td>0.04</td>\n",
       "      <td>2.3</td>\n",
       "      <td>0.092</td>\n",
       "      <td>15.0</td>\n",
       "      <td>54.0</td>\n",
       "      <td>0.9970</td>\n",
       "      <td>3.26</td>\n",
       "      <td>0.65</td>\n",
       "      <td>9.8</td>\n",
       "      <td>5</td>\n",
       "    </tr>\n",
       "    <tr>\n",
       "      <th>3</th>\n",
       "      <td>11.2</td>\n",
       "      <td>0.28</td>\n",
       "      <td>0.56</td>\n",
       "      <td>1.9</td>\n",
       "      <td>0.075</td>\n",
       "      <td>17.0</td>\n",
       "      <td>60.0</td>\n",
       "      <td>0.9980</td>\n",
       "      <td>3.16</td>\n",
       "      <td>0.58</td>\n",
       "      <td>9.8</td>\n",
       "      <td>6</td>\n",
       "    </tr>\n",
       "    <tr>\n",
       "      <th>4</th>\n",
       "      <td>7.4</td>\n",
       "      <td>0.70</td>\n",
       "      <td>0.00</td>\n",
       "      <td>1.9</td>\n",
       "      <td>0.076</td>\n",
       "      <td>11.0</td>\n",
       "      <td>34.0</td>\n",
       "      <td>0.9978</td>\n",
       "      <td>3.51</td>\n",
       "      <td>0.56</td>\n",
       "      <td>9.4</td>\n",
       "      <td>5</td>\n",
       "    </tr>\n",
       "  </tbody>\n",
       "</table>\n",
       "</div>"
      ],
      "text/plain": [
       "   fixed acidity  volatile acidity  citric acid  residual sugar  chlorides  \\\n",
       "0            7.4              0.70         0.00             1.9      0.076   \n",
       "1            7.8              0.88         0.00             2.6      0.098   \n",
       "2            7.8              0.76         0.04             2.3      0.092   \n",
       "3           11.2              0.28         0.56             1.9      0.075   \n",
       "4            7.4              0.70         0.00             1.9      0.076   \n",
       "\n",
       "   free sulfur dioxide  total sulfur dioxide  density    pH  sulphates  \\\n",
       "0                 11.0                  34.0   0.9978  3.51       0.56   \n",
       "1                 25.0                  67.0   0.9968  3.20       0.68   \n",
       "2                 15.0                  54.0   0.9970  3.26       0.65   \n",
       "3                 17.0                  60.0   0.9980  3.16       0.58   \n",
       "4                 11.0                  34.0   0.9978  3.51       0.56   \n",
       "\n",
       "   alcohol  quality  \n",
       "0      9.4        5  \n",
       "1      9.8        5  \n",
       "2      9.8        5  \n",
       "3      9.8        6  \n",
       "4      9.4        5  "
      ]
     },
     "execution_count": 3,
     "metadata": {},
     "output_type": "execute_result"
    }
   ],
   "source": [
    "# Se carga el dataset.\n",
    "df = pd.read_csv('winequality-red.csv')\n",
    "df.head()"
   ]
  },
  {
   "cell_type": "code",
   "execution_count": 4,
   "id": "9384dc71",
   "metadata": {},
   "outputs": [
    {
     "data": {
      "text/plain": [
       "(1599, 12)"
      ]
     },
     "execution_count": 4,
     "metadata": {},
     "output_type": "execute_result"
    }
   ],
   "source": [
    "# Se obtiene el tamaño del dataset.\n",
    "df.shape"
   ]
  },
  {
   "cell_type": "code",
   "execution_count": 5,
   "id": "8c58a3b4",
   "metadata": {},
   "outputs": [
    {
     "data": {
      "text/plain": [
       "fixed acidity           0\n",
       "volatile acidity        0\n",
       "citric acid             0\n",
       "residual sugar          0\n",
       "chlorides               0\n",
       "free sulfur dioxide     0\n",
       "total sulfur dioxide    0\n",
       "density                 0\n",
       "pH                      0\n",
       "sulphates               0\n",
       "alcohol                 0\n",
       "quality                 0\n",
       "dtype: int64"
      ]
     },
     "execution_count": 5,
     "metadata": {},
     "output_type": "execute_result"
    }
   ],
   "source": [
    "# Revisemos si hay datos nulos en el DataFrame antes de trabajar con ellos.\n",
    "df.isnull().sum()"
   ]
  },
  {
   "cell_type": "markdown",
   "id": "dc8e2b2f",
   "metadata": {},
   "source": [
    "Para este ejercicio trabajaremos con las columnas *citric acid*, *density* y *acohol*."
   ]
  },
  {
   "cell_type": "markdown",
   "id": "e36cecd2",
   "metadata": {},
   "source": [
    "#### Promedio\n",
    "Cálculo del *promedio* para las tres columnas:"
   ]
  },
  {
   "cell_type": "code",
   "execution_count": 6,
   "id": "da0e2c8f",
   "metadata": {
    "scrolled": true
   },
   "outputs": [
    {
     "data": {
      "text/plain": [
       "[0.2709756097560964, 0.9967466791744831, 10.422983114446502]"
      ]
     },
     "execution_count": 6,
     "metadata": {},
     "output_type": "execute_result"
    }
   ],
   "source": [
    "mean_citric_acid = df['citric acid'].mean()\n",
    "mean_density = df['density'].mean()\n",
    "mean_alcohol = df['alcohol'].mean()\n",
    "# Creamos una lista con los promedios\n",
    "means = [mean_citric_acid, mean_density, mean_alcohol]\n",
    "means"
   ]
  },
  {
   "cell_type": "markdown",
   "id": "d1c81417",
   "metadata": {},
   "source": [
    "#### Mediana\n",
    "Cálculo de la *mediana* para las tres columnas:"
   ]
  },
  {
   "cell_type": "code",
   "execution_count": 7,
   "id": "4a5ff4a0",
   "metadata": {
    "scrolled": true
   },
   "outputs": [
    {
     "data": {
      "text/plain": [
       "[0.26, 0.99675, 10.2]"
      ]
     },
     "execution_count": 7,
     "metadata": {},
     "output_type": "execute_result"
    }
   ],
   "source": [
    "median_citric_acid = df['citric acid'].median()\n",
    "median_density = df['density'].median()\n",
    "median_alcohol = df['alcohol'].median()\n",
    "# Creamos una lista con las medianas\n",
    "medians = [median_citric_acid, median_density, median_alcohol]\n",
    "medians"
   ]
  },
  {
   "cell_type": "markdown",
   "id": "463ef668",
   "metadata": {},
   "source": [
    "#### Moda\n",
    "Cálculo de la *moda* para las tres columnas:"
   ]
  },
  {
   "cell_type": "code",
   "execution_count": 8,
   "id": "bac7af29",
   "metadata": {
    "scrolled": false
   },
   "outputs": [
    {
     "data": {
      "text/plain": [
       "[0.0, 0.9972, 9.5]"
      ]
     },
     "execution_count": 8,
     "metadata": {},
     "output_type": "execute_result"
    }
   ],
   "source": [
    "mode_citric_acid = df['citric acid'].mode()[0]\n",
    "mode_density = df['density'].mode()[0]\n",
    "mode_alcohol = df['alcohol'].mode()[0]\n",
    "# Creamos una lista con las modas\n",
    "modes = [mode_citric_acid, mode_density, mode_alcohol]\n",
    "modes"
   ]
  },
  {
   "cell_type": "markdown",
   "id": "24375471",
   "metadata": {},
   "source": [
    "#### Gráficos de distribución\n",
    "Analizemos gráficamente la distribución para las tres columnas seleccionadas."
   ]
  },
  {
   "cell_type": "code",
   "execution_count": 9,
   "id": "a2459c15",
   "metadata": {},
   "outputs": [
    {
     "data": {
      "image/png": "[encoded data removed]",
      "text/plain": [
       "<Figure size 576x720 with 3 Axes>"
      ]
     },
     "metadata": {
      "needs_background": "light"
     },
     "output_type": "display_data"
    }
   ],
   "source": [
    "# Gráfico para revisar los datos\n",
    "fig, (ax1, ax2, ax3) = plt.subplots(nrows = 3, ncols = 1,\n",
    "                                    sharey = True,\n",
    "                                    figsize = (8, 10),\n",
    "                                   constrained_layout = True)\n",
    "# Gráficos\n",
    "# Histogramas\n",
    "sns.histplot(ax = ax1, data = df['citric acid'], bins = 20)\n",
    "sns.histplot(ax = ax2, data = df['density'], bins = 20)\n",
    "sns.histplot(ax = ax3, data = df['alcohol'], bins = 20)\n",
    "\n",
    "\n",
    "# Medidas de tendencia central\n",
    "ax1.axvline(means[0], color='b', linestyle='--', linewidth = 1.5, label = 'Media')\n",
    "ax1.axvline(medians[0], color='g', linestyle='--', linewidth = 1.5, label = 'Mediana')\n",
    "ax1.axvline(modes[0], color='r', linestyle='--', linewidth = 1.5, label = 'Moda')\n",
    "\n",
    "ax2.axvline(means[1], color='b', linestyle='--', linewidth = 1.5, label = 'Media')\n",
    "ax2.axvline(medians[1], color='g', linestyle='--', linewidth = 1.5, label = 'Mediana')\n",
    "ax2.axvline(modes[1], color='r', linestyle='--', linewidth = 1.5, label = 'Moda')\n",
    "\n",
    "ax3.axvline(means[2], color='b', linestyle='--', linewidth = 1.5, label = 'Media')\n",
    "ax3.axvline(medians[2], color='g', linestyle='--', linewidth = 1.5, label = 'Mediana')\n",
    "ax3.axvline(modes[2], color='r', linestyle='--', linewidth = 1.5, label = 'Moda')\n",
    "\n",
    "# Títulos\n",
    "ax1.set_title('Citric acid')\n",
    "ax2.set_title('Density')\n",
    "ax3.set_title('Alcohol')\n",
    "\n",
    "# Leyendas\n",
    "ax1.legend()\n",
    "ax2.legend()\n",
    "ax3.legend()\n",
    "\n",
    "# x e y labels\n",
    "ax1.set_xlabel(None)\n",
    "ax2.set_xlabel(None)\n",
    "ax3.set_xlabel(None)\n",
    "\n",
    "ax1.set_ylabel(None)\n",
    "ax2.set_ylabel(None)\n",
    "ax3.set_ylabel(None)\n",
    "\n",
    "plt.show()"
   ]
  },
  {
   "cell_type": "markdown",
   "id": "3fc79fae",
   "metadata": {},
   "source": [
    "### Conclusiones\n",
    "- La columna *Citric acid* presenta una distribución de tipo asimétrica sesgada a la derecha (Moda < Mediana < Media).\n",
    "\n",
    "\n",
    "- La columna *Density* presenta una distribución simétrica, ya que la Media $\\approx$ Mediana $\\approx$ Moda. De hecho en el caso de la media y la mediana estas se traslapan en el gráfico de distribución. Por la forma de la distribución, se trataría de una distribución de tipo normal.\n",
    "\n",
    "\n",
    "- La columna *Alcohol* presenta una distribución de tipo asimétrica sesgada a la derecha (Moda < Mediana < Media)."
   ]
  },
  {
   "cell_type": "markdown",
   "id": "fabed534",
   "metadata": {},
   "source": [
    "## 2. Segunda parte\n",
    "\n",
    "- Continuando con el análisis univariado, calcule las medidas de dispersión. ( std , median, valores min, valores max, rango, cuártiles, rango intercuartil) de la variable que esta analizando en la primera parte.\n",
    "\n",
    "\n",
    "- Realice los gráficos histplot y boxplot, realicé analisis y conclusiones.\n",
    "\n",
    "\n",
    "- Si el rango inter-cuartil da valores incoherentes mencionarlo.\n",
    "\n",
    "\n",
    "- Usar el código ***Medidas de dispersión***.\n",
    "\n",
    "\n",
    "- Realizar el cálculo para 2-3 variables."
   ]
  },
  {
   "cell_type": "markdown",
   "id": "7215604a",
   "metadata": {},
   "source": [
    "### Desarrollo"
   ]
  },
  {
   "cell_type": "markdown",
   "id": "ebe92cb5",
   "metadata": {},
   "source": [
    "#### Desviación estándar\n",
    "Cálculo de la *desviación estándar* para las tres columnas:"
   ]
  },
  {
   "cell_type": "code",
   "execution_count": 10,
   "id": "a975e03f",
   "metadata": {},
   "outputs": [
    {
     "data": {
      "text/plain": [
       "[0.19480113740531785, 0.0018873339538425559, 1.0656675818473926]"
      ]
     },
     "execution_count": 10,
     "metadata": {},
     "output_type": "execute_result"
    }
   ],
   "source": [
    "std_citric_acid = df['citric acid'].std()\n",
    "std_density = df['density'].std()\n",
    "std_alcohol = df['alcohol'].std()\n",
    "# Creamos una lista con las desviaciones estándar\n",
    "stds = [std_citric_acid, std_density, std_alcohol]\n",
    "stds"
   ]
  },
  {
   "cell_type": "markdown",
   "id": "46194e6c",
   "metadata": {},
   "source": [
    "#### Mediana\n",
    "El cálculo de la *mediana* para las tres columnas fue obtenido en la primera parte:"
   ]
  },
  {
   "cell_type": "code",
   "execution_count": 11,
   "id": "378091af",
   "metadata": {},
   "outputs": [
    {
     "data": {
      "text/plain": [
       "[0.26, 0.99675, 10.2]"
      ]
     },
     "execution_count": 11,
     "metadata": {},
     "output_type": "execute_result"
    }
   ],
   "source": [
    "medians"
   ]
  },
  {
   "cell_type": "markdown",
   "id": "75159aa2",
   "metadata": {},
   "source": [
    "#### Valores mínimos\n",
    "El cálculo del *mínimo* para las tres columnas fue obtenido en la primera parte:"
   ]
  },
  {
   "cell_type": "code",
   "execution_count": 12,
   "id": "7c4f33fa",
   "metadata": {},
   "outputs": [
    {
     "data": {
      "text/plain": [
       "[0.0, 0.99007, 8.4]"
      ]
     },
     "execution_count": 12,
     "metadata": {},
     "output_type": "execute_result"
    }
   ],
   "source": [
    "min_citric_acid = df['citric acid'].min()\n",
    "min_density = df['density'].min()\n",
    "min_alcohol = df['alcohol'].min()\n",
    "# Creamos una lista con los mínimos\n",
    "mins = [min_citric_acid, min_density, min_alcohol]\n",
    "mins"
   ]
  },
  {
   "cell_type": "markdown",
   "id": "5aff5c32",
   "metadata": {},
   "source": [
    "#### Valores máximos\n",
    "Cálculo del *máximo* para las tres columnas:"
   ]
  },
  {
   "cell_type": "code",
   "execution_count": 13,
   "id": "8adf82b6",
   "metadata": {},
   "outputs": [
    {
     "data": {
      "text/plain": [
       "[1.0, 1.00369, 14.9]"
      ]
     },
     "execution_count": 13,
     "metadata": {},
     "output_type": "execute_result"
    }
   ],
   "source": [
    "max_citric_acid = df['citric acid'].max()\n",
    "max_density = df['density'].max()\n",
    "max_alcohol = df['alcohol'].max()\n",
    "# Creamos una lista con los máximos\n",
    "maxs = [max_citric_acid, max_density, max_alcohol]\n",
    "maxs"
   ]
  },
  {
   "cell_type": "markdown",
   "id": "edaa1fa7",
   "metadata": {},
   "source": [
    "#### Rango\n",
    "Cálculo del *rango* para las tres columnas:"
   ]
  },
  {
   "cell_type": "code",
   "execution_count": 14,
   "id": "5de42625",
   "metadata": {},
   "outputs": [
    {
     "data": {
      "text/plain": [
       "[1.0, 0.013619999999999965, 6.5]"
      ]
     },
     "execution_count": 14,
     "metadata": {},
     "output_type": "execute_result"
    }
   ],
   "source": [
    "range_citric_acid = maxs[0] - mins[0]\n",
    "range_density = maxs[1] - mins[1]\n",
    "range_alcohol = maxs[2] - mins[2]\n",
    "# Creamos una lista con los máximos\n",
    "ranges = [range_citric_acid, range_density, range_alcohol]\n",
    "ranges"
   ]
  },
  {
   "cell_type": "markdown",
   "id": "a0b4a795",
   "metadata": {},
   "source": [
    "#### Cuartiles\n",
    "Cálculo de *cuartiles* para las tres columnas:"
   ]
  },
  {
   "cell_type": "code",
   "execution_count": 15,
   "id": "3172521c",
   "metadata": {},
   "outputs": [
    {
     "data": {
      "text/plain": [
       "[0.09, 0.26, 0.42]"
      ]
     },
     "execution_count": 15,
     "metadata": {},
     "output_type": "execute_result"
    }
   ],
   "source": [
    "# Cuartiles para la columna citric acid\n",
    "Q1_citric_acid = df['citric acid'].quantile(q = 0.25)\n",
    "Q2_citric_acid = df['citric acid'].quantile(q = 0.5)\n",
    "Q3_citric_acid = df['citric acid'].quantile(q = 0.75)\n",
    "# Creamos una lista para almacenar los cuartiles\n",
    "Q_citric_acid = [Q1_citric_acid, Q2_citric_acid, Q3_citric_acid]\n",
    "Q_citric_acid"
   ]
  },
  {
   "cell_type": "code",
   "execution_count": 16,
   "id": "fdff4216",
   "metadata": {},
   "outputs": [
    {
     "data": {
      "text/plain": [
       "[0.9956, 0.99675, 0.997835]"
      ]
     },
     "execution_count": 16,
     "metadata": {},
     "output_type": "execute_result"
    }
   ],
   "source": [
    "# Cuartiles para la columna density\n",
    "Q1_density = df['density'].quantile(q = 0.25)\n",
    "Q2_density = df['density'].quantile(q = 0.5)\n",
    "Q3_density = df['density'].quantile(q = 0.75)\n",
    "# Creamos una lista para almacenar los cuartiles\n",
    "Q_density = [Q1_density, Q2_density, Q3_density]\n",
    "Q_density"
   ]
  },
  {
   "cell_type": "code",
   "execution_count": 17,
   "id": "505d075d",
   "metadata": {},
   "outputs": [
    {
     "data": {
      "text/plain": [
       "[9.5, 10.2, 11.1]"
      ]
     },
     "execution_count": 17,
     "metadata": {},
     "output_type": "execute_result"
    }
   ],
   "source": [
    "# Cuartiles para la columna alcohol\n",
    "Q1_alcohol = df['alcohol'].quantile(q = 0.25)\n",
    "Q2_alcohol = df['alcohol'].quantile(q = 0.5)\n",
    "Q3_alcohol = df['alcohol'].quantile(q = 0.75)\n",
    "# Creamos una lista para almacenar los cuartiles\n",
    "Q_alcohol = [Q1_alcohol, Q2_alcohol, Q3_alcohol]\n",
    "Q_alcohol"
   ]
  },
  {
   "cell_type": "markdown",
   "id": "c38523e4",
   "metadata": {},
   "source": [
    "#### Rango interquartil\n",
    "Cálculo del *rango interquartil* para las tres columnas:"
   ]
  },
  {
   "cell_type": "code",
   "execution_count": 18,
   "id": "252344ae",
   "metadata": {},
   "outputs": [
    {
     "data": {
      "text/plain": [
       "[0.32999999999999996, 0.002234999999999987, 1.5999999999999996]"
      ]
     },
     "execution_count": 18,
     "metadata": {},
     "output_type": "execute_result"
    }
   ],
   "source": [
    "iqr_citric_acid = Q_citric_acid[2] - Q_citric_acid[0] \n",
    "iqr_density = Q_density[2] - Q_density[0]\n",
    "iqr_alcohol = Q_alcohol[2] - Q_alcohol[0]\n",
    "# Creamos una lista para almacenar los rangos interquartiles\n",
    "iqrs = [iqr_citric_acid, iqr_density, iqr_alcohol]\n",
    "iqrs"
   ]
  },
  {
   "cell_type": "markdown",
   "id": "5ce7b3d1",
   "metadata": {},
   "source": [
    "#### Límite mínimo y máximo\n",
    "Cálculo del *límite mínimo* y *límite máximo* considerando el *rango interquartil* para las tres columnas:"
   ]
  },
  {
   "cell_type": "code",
   "execution_count": 19,
   "id": "798707d3",
   "metadata": {},
   "outputs": [
    {
     "name": "stdout",
     "output_type": "stream",
     "text": [
      "-0.4049999999999999\n",
      "0.9149999999999999\n"
     ]
    }
   ],
   "source": [
    "# Cálculo de mínimo máximo para columna citric acid\n",
    "min_limit_citric_acid = Q1_citric_acid - 1.5*iqr_citric_acid\n",
    "max_limit_citric_acid = Q3_citric_acid + 1.5*iqr_citric_acid\n",
    "print(min_limit_citric_acid)\n",
    "print(max_limit_citric_acid)"
   ]
  },
  {
   "cell_type": "code",
   "execution_count": 20,
   "id": "cec7f80e",
   "metadata": {},
   "outputs": [
    {
     "name": "stdout",
     "output_type": "stream",
     "text": [
      "0.9922475000000001\n",
      "1.0011875\n"
     ]
    }
   ],
   "source": [
    "# Cálculo de mínimo máximo para columna density\n",
    "min_limit_density = Q1_density - 1.5*iqr_density\n",
    "max_limit_density = Q3_density + 1.5*iqr_density\n",
    "print(min_limit_density)\n",
    "print(max_limit_density)"
   ]
  },
  {
   "cell_type": "code",
   "execution_count": 21,
   "id": "0eb5ceed",
   "metadata": {},
   "outputs": [
    {
     "name": "stdout",
     "output_type": "stream",
     "text": [
      "7.1000000000000005\n",
      "13.5\n"
     ]
    }
   ],
   "source": [
    "# Cálculo de mínimo máximo para columna alcohol\n",
    "min_limit_alcohol = Q1_alcohol - 1.5*iqr_alcohol\n",
    "max_limit_alcohol = Q3_alcohol + 1.5*iqr_alcohol\n",
    "print(min_limit_alcohol)\n",
    "print(max_limit_alcohol)"
   ]
  },
  {
   "cell_type": "markdown",
   "id": "5bd845c7",
   "metadata": {},
   "source": [
    "#### Histplot y boxplot\n",
    "Revisemos los gráficos de histplot y boxplot:"
   ]
  },
  {
   "cell_type": "code",
   "execution_count": 22,
   "id": "22350e2b",
   "metadata": {},
   "outputs": [
    {
     "data": {
      "image/png": "[encoded data removed]",
      "text/plain": [
       "<Figure size 576x1440 with 6 Axes>"
      ]
     },
     "metadata": {
      "needs_background": "light"
     },
     "output_type": "display_data"
    }
   ],
   "source": [
    "# Gráfico para revisar los datos\n",
    "fig, (bx1, hx1, bx2, hx2, bx3, hx3) = plt.subplots(nrows = 6, ncols = 1,\n",
    "                                    sharey = False,\n",
    "                                    figsize = (8, 20),\n",
    "                                   constrained_layout = True)\n",
    "# Gráficos\n",
    "# Boxplots\n",
    "sns.boxplot(ax = bx1, x = df['citric acid'], color = 'r', width = 0.3)\n",
    "sns.boxplot(ax = bx2, x = df['density'], color = 'g', width = 0.3)\n",
    "sns.boxplot(ax = bx3, x = df['alcohol'], color = 'b', width = 0.3)\n",
    "\n",
    "\n",
    "# Histogramas\n",
    "sns.histplot(ax = hx1, data = df['citric acid'], bins = 20, color = 'r')\n",
    "sns.histplot(ax = hx2, data = df['density'], bins = 20, color = 'g')\n",
    "sns.histplot(ax = hx3, data = df['alcohol'], bins = 20, color = 'b')\n",
    "\n",
    "# Medidas de tendencia central\n",
    "bx1.axvline(medians[0], color = 'r', linestyle='--', label = 'Mediana')\n",
    "bx1.axvline(means[0], color = 'b', linestyle='--', label = 'Media')\n",
    "hx1.axvline(medians[0], color = 'r', linestyle='--', label = 'Mediana')\n",
    "hx1.axvline(means[0], color = 'b', linestyle='--', label = 'Media')\n",
    "\n",
    "bx2.axvline(medians[1], color = 'r', linestyle='--', label = 'Mediana')\n",
    "bx2.axvline(means[1], color = 'b', linestyle='--', label = 'Media')\n",
    "hx2.axvline(medians[1], color = 'r', linestyle='--', label = 'Mediana')\n",
    "hx2.axvline(means[1], color = 'b', linestyle='--', label = 'Media')\n",
    "\n",
    "bx3.axvline(medians[2], color = 'r', linestyle='--', label = 'Mediana')\n",
    "bx3.axvline(means[2], color = 'b', linestyle='--', label = 'Media')\n",
    "hx3.axvline(medians[2], color = 'r', linestyle='--', label = 'Mediana')\n",
    "hx3.axvline(means[2], color = 'b', linestyle='--', label = 'Media')\n",
    "\n",
    "# Títulos\n",
    "bx1.set_title('Citric acid')\n",
    "bx2.set_title('Density')\n",
    "bx3.set_title('Alcohol')\n",
    "\n",
    "# Leyendas\n",
    "bx1.legend(loc = 'lower right')\n",
    "bx2.legend(loc = 'lower right')\n",
    "bx3.legend(loc = 'lower right')\n",
    "\n",
    "# # x e y labels\n",
    "bx1.set_xlabel(None)\n",
    "bx2.set_xlabel(None)\n",
    "bx3.set_xlabel(None)\n",
    "hx1.set_xlabel(None)\n",
    "hx2.set_xlabel(None)\n",
    "hx3.set_xlabel(None)\n",
    "\n",
    "bx1.set_xticklabels([])\n",
    "bx2.set_xticklabels([])\n",
    "bx3.set_xticklabels([])\n",
    "\n",
    "hx1.set_ylabel(None)\n",
    "hx2.set_ylabel(None)\n",
    "hx3.set_ylabel(None)\n",
    "\n",
    "# Limits\n",
    "hx1.set_ylim([0, 350])\n",
    "hx2.set_ylim([0, 350])\n",
    "hx3.set_ylim([0, 350])\n",
    "\n",
    "hx1.set_yticks(np.arange(0, 401, 100))\n",
    "hx2.set_yticks(np.arange(0, 401, 100))\n",
    "hx3.set_yticks(np.arange(0, 401, 100))\n",
    "\n",
    "plt.show()"
   ]
  },
  {
   "cell_type": "markdown",
   "id": "09850dee",
   "metadata": {},
   "source": [
    "### Conclusiones\n",
    "- Dado que la columna *density* presenta una distribución simétrica de tipo normal, entonces se cumplirá que la media coincide con la mediana.\n",
    "\n",
    "\n",
    "- Dado que la columna *density* presenta una distribución simétrica de tipo normal, se cumplirá que al sumar o restar n veces la desviación estándar con respecto a la media/mediana abarcaremos el 68.27% (n = 1), 95.45% (n = 2) y 99.73% (n = 3) de la muestra respectivamente. Tal como se indica en la figura. Esto se conoce como *la regla 68-95-99.7*.\n",
    "\n",
    "<img src=https://miro.medium.com/max/1400/1*IZ2II2HYKeoMrdLU5jW6Dw.png alt=\"drawing\" width=\"500\"/>\n",
    "\n",
    "\n",
    "- Solo observando los diagramas de caja, podemos determinar cuando una distribución es de tipo asimétrica o sesgada. En al caso de las columnas *acid citric* y *alcohol* la mediana presenta un desplazamiento hacia la izquierda con respecto al cuerpo de la caja. Está característica describe a las distribuciones sesgadas a la derecha también conocidas como de asimetría positiva.\n",
    "\n",
    "<img src=https://slidetodoc.com/presentation_image/2b0a42cf91bdf41913da07554e787a0f/image-37.jpg alt=\"drawing\" width=\"400\"/>\n",
    "\n",
    "- En el caso de los límites mínimos y máximos para las tres columnas, estos toman valores coherentes, a excepción del límite mínimo para la columna *citric_acid* que presenta un valor negativo. Se debe considerar que al momento de calcular los límites, la dimensión final del límite será la de la muestra más cercana que se incluya dentro del rango. Es por esto que en el diagrama de caja de la columna *citric_acid* el límite llega hasta el valor cero, lo cuál sí tiene sentido.\n",
    "\n",
    "\n",
    "- Para los tres diargamas de cajas existen outliers, estos son datos que se encuentran fuera de los límites mínimo y máximo calculados como $\\pm1.5\\cdot iqr$."
   ]
  },
  {
   "cell_type": "markdown",
   "id": "f124cdf0",
   "metadata": {},
   "source": [
    "## 3. Tercera parte: normalización y correlación\n",
    "- Relaciones 2 variables y encuentre que tipo de correlación existe (en este caso que sí implique causalidad).\n",
    "\n",
    "\n",
    "- Realice una normalización de la variable X , con el Z-score.\n",
    "\n",
    "\n",
    "- Grafique dicha variable como se ve sin escalamiento y con escalamiento (Indentifique que escalimiento conviene mas, de los vistos en clase).\n",
    "\n",
    "\n",
    "- Los escalamientos vistos en clases son *Z-score* y *Max-min*.\n",
    "\n",
    "\n",
    "- Se puede usar el mismo dataset u otro."
   ]
  },
  {
   "cell_type": "markdown",
   "id": "c0835aaa",
   "metadata": {},
   "source": [
    "### Desarrollo"
   ]
  },
  {
   "cell_type": "markdown",
   "id": "7ad96260",
   "metadata": {},
   "source": [
    "Trabajaremos con el dataset *weight-height.csv* el cual reúne los datos de peso y altura para mujeres y hombres. Este dataset puede ser encontrado en la siguiente url: https://www.kaggle.com/mustafaali96/weight-height?select=weight-height.csv"
   ]
  },
  {
   "cell_type": "markdown",
   "id": "712d7b52",
   "metadata": {},
   "source": [
    "#### Exploración de datos"
   ]
  },
  {
   "cell_type": "code",
   "execution_count": 23,
   "id": "f8e6323e",
   "metadata": {},
   "outputs": [
    {
     "data": {
      "text/plain": [
       "(10000, 3)"
      ]
     },
     "execution_count": 23,
     "metadata": {},
     "output_type": "execute_result"
    }
   ],
   "source": [
    "# Se carga el dataset.\n",
    "weight_height = pd.read_csv('weight-height.csv')\n",
    "weight_height.shape"
   ]
  },
  {
   "cell_type": "code",
   "execution_count": 24,
   "id": "bc232be8",
   "metadata": {
    "scrolled": true
   },
   "outputs": [
    {
     "data": {
      "text/html": [
       "<div>\n",
       "<style scoped>\n",
       "    .dataframe tbody tr th:only-of-type {\n",
       "        vertical-align: middle;\n",
       "    }\n",
       "\n",
       "    .dataframe tbody tr th {\n",
       "        vertical-align: top;\n",
       "    }\n",
       "\n",
       "    .dataframe thead th {\n",
       "        text-align: right;\n",
       "    }\n",
       "</style>\n",
       "<table border=\"1\" class=\"dataframe\">\n",
       "  <thead>\n",
       "    <tr style=\"text-align: right;\">\n",
       "      <th></th>\n",
       "      <th>Gender</th>\n",
       "      <th>Height</th>\n",
       "      <th>Weight</th>\n",
       "    </tr>\n",
       "  </thead>\n",
       "  <tbody>\n",
       "    <tr>\n",
       "      <th>96</th>\n",
       "      <td>Male</td>\n",
       "      <td>71.701234</td>\n",
       "      <td>193.094164</td>\n",
       "    </tr>\n",
       "    <tr>\n",
       "      <th>9792</th>\n",
       "      <td>Female</td>\n",
       "      <td>64.507331</td>\n",
       "      <td>136.317375</td>\n",
       "    </tr>\n",
       "    <tr>\n",
       "      <th>9231</th>\n",
       "      <td>Female</td>\n",
       "      <td>67.115935</td>\n",
       "      <td>131.720517</td>\n",
       "    </tr>\n",
       "    <tr>\n",
       "      <th>3603</th>\n",
       "      <td>Male</td>\n",
       "      <td>64.991910</td>\n",
       "      <td>153.655214</td>\n",
       "    </tr>\n",
       "    <tr>\n",
       "      <th>220</th>\n",
       "      <td>Male</td>\n",
       "      <td>68.122768</td>\n",
       "      <td>196.414415</td>\n",
       "    </tr>\n",
       "  </tbody>\n",
       "</table>\n",
       "</div>"
      ],
      "text/plain": [
       "      Gender     Height      Weight\n",
       "96      Male  71.701234  193.094164\n",
       "9792  Female  64.507331  136.317375\n",
       "9231  Female  67.115935  131.720517\n",
       "3603    Male  64.991910  153.655214\n",
       "220     Male  68.122768  196.414415"
      ]
     },
     "execution_count": 24,
     "metadata": {},
     "output_type": "execute_result"
    }
   ],
   "source": [
    "weight_height.sample(5)"
   ]
  },
  {
   "cell_type": "code",
   "execution_count": 25,
   "id": "6107f2ed",
   "metadata": {},
   "outputs": [
    {
     "data": {
      "text/plain": [
       "Gender    0\n",
       "Height    0\n",
       "Weight    0\n",
       "dtype: int64"
      ]
     },
     "execution_count": 25,
     "metadata": {},
     "output_type": "execute_result"
    }
   ],
   "source": [
    "# Revisemos si hay datos nulos en el DataFrame antes de trabajar con ellos.\n",
    "weight_height.isnull().sum()"
   ]
  },
  {
   "cell_type": "markdown",
   "id": "971bcf76",
   "metadata": {},
   "source": [
    "#### Relación entre dos variables\n",
    "Veremos cómo se relacionan las variables, para ello graficaremos la variable *weigth* (dependiente) en función de la variable *height* (independiente)."
   ]
  },
  {
   "cell_type": "code",
   "execution_count": 26,
   "id": "1303a13a",
   "metadata": {
    "scrolled": false
   },
   "outputs": [
    {
     "data": {
      "image/png": "[encoded data removed]",
      "text/plain": [
       "<Figure size 432x288 with 1 Axes>"
      ]
     },
     "metadata": {
      "needs_background": "light"
     },
     "output_type": "display_data"
    }
   ],
   "source": [
    "fig, ax = plt.subplots(figsize = (6,4), constrained_layout = True)\n",
    "sns.scatterplot(ax = ax, data = weight_height, x = 'Height', y = 'Weight')\n",
    "plt.show()"
   ]
  },
  {
   "cell_type": "markdown",
   "id": "ac7b0ce4",
   "metadata": {},
   "source": [
    "Se observa que existe una correlación de tipo positiva entre *Height* y *Weight*. Es decir al aumentar el valor de *Height*, también aumentará el valor de *Weight*."
   ]
  },
  {
   "cell_type": "markdown",
   "id": "04c77d4f",
   "metadata": {},
   "source": [
    "#### Z-score\n",
    "Para aplicar Z-score es necesario obtener el promedio y la desviación estándar de la columna *Height*. Recordemos que esta es la expresión de Z-score:\n",
    "\n",
    "$$\\large Z= \\frac{x-u}{\\sigma}$$ Donde:<br>\n",
    "$\\large x$: es el valor observado.<br>\n",
    "$\\large u$: es el promedio de la muestra.<br>\n",
    "$\\large \\sigma$: es la desviación estándar de la muestra."
   ]
  },
  {
   "cell_type": "code",
   "execution_count": 27,
   "id": "6c4e7bd1",
   "metadata": {},
   "outputs": [],
   "source": [
    "# Seleccionamos solamente la columna height.\n",
    "h = weight_height['Height']"
   ]
  },
  {
   "cell_type": "code",
   "execution_count": 28,
   "id": "83ec52c8",
   "metadata": {},
   "outputs": [
    {
     "name": "stdout",
     "output_type": "stream",
     "text": [
      "Promedio: 66.36755975482106\n",
      "Desviación estándar: 3.8475281207732324\n"
     ]
    }
   ],
   "source": [
    "# Promedio\n",
    "h_mean = h.mean()\n",
    "# Desviación estándar\n",
    "h_std = h.std()\n",
    "\n",
    "print('Promedio: {}\\nDesviación estándar: {}'.format(h_mean, h_std))"
   ]
  },
  {
   "cell_type": "markdown",
   "id": "a315093c",
   "metadata": {},
   "source": [
    "Con los valores obtenidos es posible aplicar el escalamiento:"
   ]
  },
  {
   "cell_type": "code",
   "execution_count": 29,
   "id": "7fc8ee8e",
   "metadata": {},
   "outputs": [],
   "source": [
    "# Escalamiento\n",
    "h_scaled_z = (h - h_mean)/h_std"
   ]
  },
  {
   "cell_type": "markdown",
   "id": "e9e9ff96",
   "metadata": {},
   "source": [
    "#### Gráficos\n",
    "Veamos cómo se comporta el escalamiento en comparación con los datos sin escalar:"
   ]
  },
  {
   "cell_type": "code",
   "execution_count": 30,
   "id": "53b5e851",
   "metadata": {
    "scrolled": false
   },
   "outputs": [
    {
     "data": {
      "image/png": "[encoded data removed]",
      "text/plain": [
       "<Figure size 576x432 with 2 Axes>"
      ]
     },
     "metadata": {
      "needs_background": "light"
     },
     "output_type": "display_data"
    }
   ],
   "source": [
    "fig, ax = plt.subplots(2, 1, figsize = (8,6), sharex = True, sharey = True, constrained_layout = True)\n",
    "\n",
    "# Gráficos\n",
    "sns.histplot(ax = ax[0], data = h, bins = 20)\n",
    "sns.histplot(ax = ax[1], data = h_scaled_z, bins = 20)\n",
    "\n",
    "# Títutlos\n",
    "ax[0].set_title('Sin escalamiento', fontsize = 14)\n",
    "ax[1].set_title('Z-score', fontsize = 14)\n",
    "\n",
    "# Xticks\n",
    "ax[1].set(xticks = np.arange(0, 90, 5))\n",
    "ax[0].set(xticks = np.arange(0, 90, 5))\n",
    "\n",
    "# Se desactivan las etiquetas del eje y\n",
    "ax[0].set(ylabel = None)\n",
    "ax[1].set(ylabel = None)\n",
    "\n",
    "plt.show()"
   ]
  },
  {
   "attachments": {
    "image.png": {
     "image/png": "[encoded data removed]"
    }
   },
   "cell_type": "markdown",
   "id": "f966d5a0",
   "metadata": {},
   "source": [
    "### Conclusiones\n",
    "- Se dice que existe correlación entre dos variables cuando al cambiar una variable, la otra también experimenta un cambio. En general existen tres casos de correlación; positiva, negativa y nula. Esto queda mejor descrito en la siguiente imagen:\n",
    "![image.png](attachment:image.png)\n",
    "    \n",
    "    Si bien la correlación entre dos variables no implica causalidad, en este caso en particular sí la hay, ya que el peso de una persona estará determinado por su altura. Aún así, esta variable no será la única causa del peso; también podrían estar involucradas variables como el nivel de actividad física, dieta, entre otros.\n",
    "\n",
    "\n",
    "- En clases se estudiaron dos tipos de escalamiento: Max-min y Z-score. El escalamiento Max-min está descrito por la siguiente formula:\n",
    "\n",
    "    $$\\large x'= \\frac{x-x_{min}}{x_{max}-x_{min}}$$ Donde:<br>\n",
    "$\\large x$: es el valor observado.<br>\n",
    "$\\large x_{min}$: es el valor mínimo de la muestra.<br>\n",
    "$\\large x_{max}$: es el valor máximo de la muestra.\n",
    "\n",
    "    Al obervar la fórmula de este escalameinto, podemos apreciar que tiene una alta sensibilidad a los valores máximos y mínimos. Es decir, si por ejemplo nuestra muestra presenta valores átipicos muy alejados de la media, entonces afectarán nuestro escalamiento. Es por eso que Max-min se suele utilizar para muestras con distribuciones uniformes o que hayan pasado por un preprocesamiento donde se hayan descartado los valores átipicos. Aún así, una de las ventajas de Min-max, es que se conserva la escala de la distribución luego de aplicarlo.\n",
    "\n",
    "\n",
    "- En el caso del escalamiento Z-score, este presenta tolerancia a valores átipicos, ya que trabaja con el promedio y la desviación estándar. Por lo que usarlo para distribuciones de tipo normal sería adecuado. La desventaja de este escalamiento, es que luego de aplicarlo, la distribución obtenida no presenta la misma escala que la original."
   ]
  },
  {
   "cell_type": "markdown",
   "id": "221e0059",
   "metadata": {},
   "source": [
    "## 4. Cuarta parte: dataset *penguins*\n",
    " \n",
    "- En base al archivo “Introducción a la distribución” compare 2 variables\n",
    "\n",
    "\n",
    "- Luego construya la matriz de covarianza con el data set de seaborn. (tome como ejemplo el archivo de covarianza).\n"
   ]
  },
  {
   "cell_type": "markdown",
   "id": "0583ded7",
   "metadata": {},
   "source": [
    "### Desarrollo"
   ]
  },
  {
   "cell_type": "markdown",
   "id": "80abfaa3",
   "metadata": {},
   "source": [
    "#### Exploración de datos"
   ]
  },
  {
   "cell_type": "code",
   "execution_count": 31,
   "id": "e137586d",
   "metadata": {},
   "outputs": [
    {
     "data": {
      "text/plain": [
       "(344, 7)"
      ]
     },
     "execution_count": 31,
     "metadata": {},
     "output_type": "execute_result"
    }
   ],
   "source": [
    "# Se carga el dataset\n",
    "penguins = sns.load_dataset('penguins')\n",
    "penguins.shape"
   ]
  },
  {
   "cell_type": "code",
   "execution_count": 32,
   "id": "66e70c30",
   "metadata": {
    "scrolled": false
   },
   "outputs": [
    {
     "data": {
      "text/html": [
       "<div>\n",
       "<style scoped>\n",
       "    .dataframe tbody tr th:only-of-type {\n",
       "        vertical-align: middle;\n",
       "    }\n",
       "\n",
       "    .dataframe tbody tr th {\n",
       "        vertical-align: top;\n",
       "    }\n",
       "\n",
       "    .dataframe thead th {\n",
       "        text-align: right;\n",
       "    }\n",
       "</style>\n",
       "<table border=\"1\" class=\"dataframe\">\n",
       "  <thead>\n",
       "    <tr style=\"text-align: right;\">\n",
       "      <th></th>\n",
       "      <th>species</th>\n",
       "      <th>island</th>\n",
       "      <th>bill_length_mm</th>\n",
       "      <th>bill_depth_mm</th>\n",
       "      <th>flipper_length_mm</th>\n",
       "      <th>body_mass_g</th>\n",
       "      <th>sex</th>\n",
       "    </tr>\n",
       "  </thead>\n",
       "  <tbody>\n",
       "    <tr>\n",
       "      <th>260</th>\n",
       "      <td>Gentoo</td>\n",
       "      <td>Biscoe</td>\n",
       "      <td>42.7</td>\n",
       "      <td>13.7</td>\n",
       "      <td>208.0</td>\n",
       "      <td>3950.0</td>\n",
       "      <td>Female</td>\n",
       "    </tr>\n",
       "    <tr>\n",
       "      <th>159</th>\n",
       "      <td>Chinstrap</td>\n",
       "      <td>Dream</td>\n",
       "      <td>51.3</td>\n",
       "      <td>18.2</td>\n",
       "      <td>197.0</td>\n",
       "      <td>3750.0</td>\n",
       "      <td>Male</td>\n",
       "    </tr>\n",
       "    <tr>\n",
       "      <th>64</th>\n",
       "      <td>Adelie</td>\n",
       "      <td>Biscoe</td>\n",
       "      <td>36.4</td>\n",
       "      <td>17.1</td>\n",
       "      <td>184.0</td>\n",
       "      <td>2850.0</td>\n",
       "      <td>Female</td>\n",
       "    </tr>\n",
       "    <tr>\n",
       "      <th>268</th>\n",
       "      <td>Gentoo</td>\n",
       "      <td>Biscoe</td>\n",
       "      <td>44.9</td>\n",
       "      <td>13.3</td>\n",
       "      <td>213.0</td>\n",
       "      <td>5100.0</td>\n",
       "      <td>Female</td>\n",
       "    </tr>\n",
       "    <tr>\n",
       "      <th>118</th>\n",
       "      <td>Adelie</td>\n",
       "      <td>Torgersen</td>\n",
       "      <td>35.7</td>\n",
       "      <td>17.0</td>\n",
       "      <td>189.0</td>\n",
       "      <td>3350.0</td>\n",
       "      <td>Female</td>\n",
       "    </tr>\n",
       "  </tbody>\n",
       "</table>\n",
       "</div>"
      ],
      "text/plain": [
       "       species     island  bill_length_mm  bill_depth_mm  flipper_length_mm  \\\n",
       "260     Gentoo     Biscoe            42.7           13.7              208.0   \n",
       "159  Chinstrap      Dream            51.3           18.2              197.0   \n",
       "64      Adelie     Biscoe            36.4           17.1              184.0   \n",
       "268     Gentoo     Biscoe            44.9           13.3              213.0   \n",
       "118     Adelie  Torgersen            35.7           17.0              189.0   \n",
       "\n",
       "     body_mass_g     sex  \n",
       "260       3950.0  Female  \n",
       "159       3750.0    Male  \n",
       "64        2850.0  Female  \n",
       "268       5100.0  Female  \n",
       "118       3350.0  Female  "
      ]
     },
     "execution_count": 32,
     "metadata": {},
     "output_type": "execute_result"
    }
   ],
   "source": [
    "penguins.sample(5)"
   ]
  },
  {
   "cell_type": "markdown",
   "id": "7228dccc",
   "metadata": {},
   "source": [
    "Este dataset reúne información de pinguinos de acuerdo a los siguientes atributos: *especie, isla, largo del pico, altura del pico, largo del ala, indice de masa corporal y sexo*."
   ]
  },
  {
   "cell_type": "code",
   "execution_count": 33,
   "id": "204a23d7",
   "metadata": {
    "scrolled": false
   },
   "outputs": [
    {
     "data": {
      "text/plain": [
       "species               0\n",
       "island                0\n",
       "bill_length_mm        2\n",
       "bill_depth_mm         2\n",
       "flipper_length_mm     2\n",
       "body_mass_g           2\n",
       "sex                  11\n",
       "dtype: int64"
      ]
     },
     "execution_count": 33,
     "metadata": {},
     "output_type": "execute_result"
    }
   ],
   "source": [
    "# Revisemos si hay datos nulos en el DataFrame antes de trabajar con ellos.\n",
    "penguins.isnull().sum()"
   ]
  },
  {
   "cell_type": "markdown",
   "id": "3d522dcc",
   "metadata": {},
   "source": [
    "#### Limpieza de datos\n",
    "Dado que el DataFrame presenta valores nulos, entonces debemos eliminarlos antes de trabajar."
   ]
  },
  {
   "cell_type": "code",
   "execution_count": 34,
   "id": "7d144fd1",
   "metadata": {},
   "outputs": [
    {
     "data": {
      "text/plain": [
       "species              0\n",
       "island               0\n",
       "bill_length_mm       0\n",
       "bill_depth_mm        0\n",
       "flipper_length_mm    0\n",
       "body_mass_g          0\n",
       "sex                  0\n",
       "dtype: int64"
      ]
     },
     "execution_count": 34,
     "metadata": {},
     "output_type": "execute_result"
    }
   ],
   "source": [
    "# Para eliminar los datos nulos usamos dropna.\n",
    "penguins = penguins.dropna()\n",
    "penguins.isnull().sum()"
   ]
  },
  {
   "cell_type": "markdown",
   "id": "80442aec",
   "metadata": {},
   "source": [
    "#### Gráfico para comparar dos variables\n",
    "Grafiquemos la relación de las variables númericas del DataFrame."
   ]
  },
  {
   "cell_type": "code",
   "execution_count": null,
   "id": "10e2e6fa",
   "metadata": {},
   "outputs": [],
   "source": [
    "sns.pairplot(penguins, height = 3, aspect = .8, hue = 'species', corner = True) # Grafico con regresión lineal\n",
    "plt.show()"
   ]
  },
  {
   "cell_type": "markdown",
   "id": "da888cbb",
   "metadata": {},
   "source": [
    "Trabajaremos con las columnas *flipper_length_mm* y *body_mass_g*."
   ]
  },
  {
   "cell_type": "code",
   "execution_count": null,
   "id": "80ba9b36",
   "metadata": {},
   "outputs": [],
   "source": [
    "# Gráfico\n",
    "p = sns.jointplot(data = penguins, x = 'flipper_length_mm', y = 'body_mass_g', hue = 'species')\n",
    "p.set_axis_labels('flipper_length_mm', 'body_mass_g', fontsize=14)\n",
    "\n",
    "plt.show()"
   ]
  },
  {
   "cell_type": "markdown",
   "id": "1767881c",
   "metadata": {},
   "source": [
    "#### Matriz de covarianza"
   ]
  },
  {
   "cell_type": "code",
   "execution_count": null,
   "id": "3bcb7799",
   "metadata": {},
   "outputs": [],
   "source": [
    "# Importamos la clase que nos permite escalar los datos.\n",
    "from sklearn.preprocessing import StandardScaler"
   ]
  },
  {
   "cell_type": "code",
   "execution_count": null,
   "id": "6b029afc",
   "metadata": {},
   "outputs": [],
   "source": [
    "# Creamos una instancia del escalador y luego aplicamos el escalamiento\n",
    "scaler = StandardScaler()\n",
    "scaled = scaler.fit_transform(penguins[penguins.columns[2:6]])"
   ]
  },
  {
   "cell_type": "code",
   "execution_count": null,
   "id": "976291c7",
   "metadata": {},
   "outputs": [],
   "source": [
    "scaled.shape"
   ]
  },
  {
   "cell_type": "code",
   "execution_count": null,
   "id": "f753d268",
   "metadata": {
    "scrolled": true
   },
   "outputs": [],
   "source": [
    "# Tamaño del arreglo cuando se le aplica la función transpuesta.\n",
    "scaled.T.shape"
   ]
  },
  {
   "cell_type": "code",
   "execution_count": null,
   "id": "4d30d1d1",
   "metadata": {
    "scrolled": true
   },
   "outputs": [],
   "source": [
    "# Se obtiene la matriz de covarianza\n",
    "covariance_matrix = np.cov(scaled.T)\n",
    "covariance_matrix"
   ]
  },
  {
   "cell_type": "code",
   "execution_count": null,
   "id": "5d51e928",
   "metadata": {},
   "outputs": [],
   "source": [
    "plt.figure(figsize = (6, 6))\n",
    "sns.set(font_scale = 1.2)\n",
    "hm = sns.heatmap(covariance_matrix,\n",
    "                cbar = True,\n",
    "                annot = True,\n",
    "                square = True,\n",
    "                annot_kws = {'size':12},\n",
    "                yticklabels = penguins.columns[2:6],\n",
    "                xticklabels = penguins.columns[2:6]\n",
    "                )"
   ]
  },
  {
   "cell_type": "markdown",
   "id": "d9d977db",
   "metadata": {},
   "source": [
    "### Conclusiones\n",
    "- ¿Porqué usamos un escalamiento Z-score para el cálculo de la matriz de covarianza? Para ello, debemos observar la fórmula del factor de correlación $\\large \\rho$:\n",
    "\n",
    "    $$\\large \\rho=\\frac{S_{xy}}{S_xS_y}$$ Donde:<br>\n",
    "$\\large S_{xy}$: es la covarianza entre x e y.<br>\n",
    "$\\large S_x$: es la desviación estándar de la variable $\\large x$.<br>\n",
    "$\\large S_y$: es la desviación estándar de la variable $\\large y$.\n",
    "\n",
    "    Recordemos que al aplicar un escalamiento de tipo Z-score, estamos escalando los datos de tal forma que la media es 0 y la desviación estándar es 1. Con esto, podemos reescribir la formula del factor de correlación como: \n",
    "\n",
    "    $$\\large \\rho=S_{xy}$$\n",
    "\n",
    "    Por lo tanto, la covarianza de los datos escalados con Z-score será igual al factor de correlación, lo mismo ocurrirá para la matriz de covarianza y la matriz de correlación. Lo anterior lo podemos comprobar calculando directamente los factores de correlación para el DataFrame y observar que son los mismos de la matriz de covarianza de los datos escalados."
   ]
  },
  {
   "cell_type": "code",
   "execution_count": null,
   "id": "c5b8ad4a",
   "metadata": {
    "scrolled": true
   },
   "outputs": [],
   "source": [
    "# Factores de correlación\n",
    "penguins.corr()"
   ]
  },
  {
   "cell_type": "markdown",
   "id": "6c02bd68",
   "metadata": {},
   "source": [
    "- Observando los datos de la matriz de covarianza o de factores de correlación, podemos apreciar que existe una correlación positiva de tipo fuerte entre las columnas *flipper_length_mm* y *body_mass_g*. Esto se determina de acuerdo a tabla de interpretación de correlaciones:\n",
    "\n",
    "<img src= https://static.platzi.com/media/user_upload/tablita-5e6d38e8-8b72-4f20-9c17-8bfa7e11259b.jpg alt=\"drawing\" width=\"250\"/>"
   ]
  },
  {
   "cell_type": "code",
   "execution_count": null,
   "id": "45317057",
   "metadata": {},
   "outputs": [],
   "source": []
  }
 ],
 "metadata": {
  "kernelspec": {
   "display_name": "Python 3",
   "language": "python",
   "name": "python3"
  },
  "language_info": {
   "codemirror_mode": {
    "name": "ipython",
    "version": 3
   },
   "file_extension": ".py",
   "mimetype": "text/x-python",
   "name": "python",
   "nbconvert_exporter": "python",
   "pygments_lexer": "ipython3",
   "version": "3.8.8"
  }
 },
 "nbformat": 4,
 "nbformat_minor": 5
}
