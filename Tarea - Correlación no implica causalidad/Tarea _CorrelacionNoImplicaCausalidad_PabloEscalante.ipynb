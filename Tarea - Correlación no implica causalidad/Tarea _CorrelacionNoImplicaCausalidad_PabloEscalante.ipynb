{
 "cells": [
  {
   "cell_type": "markdown",
   "id": "493c8b27",
   "metadata": {},
   "source": [
    "# Tarea - *\\\"Correlación no implica causalidad\\\"*"
   ]
  },
  {
   "cell_type": "markdown",
   "id": "26ae3e8c",
   "metadata": {},
   "source": [
    "*Nombre: Pablo Escalante*<br>\n",
    "*Fecha: 10-01-2022*"
   ]
  },
  {
   "cell_type": "markdown",
   "id": "7b4cf01e",
   "metadata": {},
   "source": [
    "### Desarrollo\n",
    "#### Creación de DataFrame"
   ]
  },
  {
   "cell_type": "code",
   "execution_count": 1,
   "id": "434d6a61",
   "metadata": {},
   "outputs": [],
   "source": [
    "# Se cargan las librerias que vamos a utilizar\n",
    "import pandas as pd\n",
    "import numpy as np\n",
    "import matplotlib.pyplot as plt\n",
    "import seaborn as sns"
   ]
  },
  {
   "cell_type": "markdown",
   "id": "f8acbbbb",
   "metadata": {},
   "source": [
    "Uno de los datasets que utilizaremos será el precio de la acción de LATAM por mes. Ref: https://finance.yahoo.com/quote/LTM.SN/history?p=LTM.SN"
   ]
  },
  {
   "cell_type": "code",
   "execution_count": 2,
   "id": "30e7e503",
   "metadata": {},
   "outputs": [
    {
     "data": {
      "text/html": [
       "<div>\n",
       "<style scoped>\n",
       "    .dataframe tbody tr th:only-of-type {\n",
       "        vertical-align: middle;\n",
       "    }\n",
       "\n",
       "    .dataframe tbody tr th {\n",
       "        vertical-align: top;\n",
       "    }\n",
       "\n",
       "    .dataframe thead th {\n",
       "        text-align: right;\n",
       "    }\n",
       "</style>\n",
       "<table border=\"1\" class=\"dataframe\">\n",
       "  <thead>\n",
       "    <tr style=\"text-align: right;\">\n",
       "      <th></th>\n",
       "      <th>Date</th>\n",
       "      <th>Open</th>\n",
       "      <th>High</th>\n",
       "      <th>Low</th>\n",
       "      <th>Close</th>\n",
       "      <th>Adj Close</th>\n",
       "      <th>Volume</th>\n",
       "    </tr>\n",
       "  </thead>\n",
       "  <tbody>\n",
       "    <tr>\n",
       "      <th>0</th>\n",
       "      <td>2000-02-01</td>\n",
       "      <td>970.299866</td>\n",
       "      <td>1059.409058</td>\n",
       "      <td>891.091736</td>\n",
       "      <td>920.794739</td>\n",
       "      <td>879.014587</td>\n",
       "      <td>1994223</td>\n",
       "    </tr>\n",
       "    <tr>\n",
       "      <th>1</th>\n",
       "      <td>2000-03-01</td>\n",
       "      <td>940.596802</td>\n",
       "      <td>990.101929</td>\n",
       "      <td>811.883545</td>\n",
       "      <td>920.794739</td>\n",
       "      <td>879.014587</td>\n",
       "      <td>868375</td>\n",
       "    </tr>\n",
       "    <tr>\n",
       "      <th>2</th>\n",
       "      <td>2000-04-01</td>\n",
       "      <td>910.893738</td>\n",
       "      <td>920.794739</td>\n",
       "      <td>811.883545</td>\n",
       "      <td>905.943237</td>\n",
       "      <td>864.836853</td>\n",
       "      <td>688397</td>\n",
       "    </tr>\n",
       "    <tr>\n",
       "      <th>3</th>\n",
       "      <td>2000-05-01</td>\n",
       "      <td>905.943237</td>\n",
       "      <td>905.943237</td>\n",
       "      <td>826.735107</td>\n",
       "      <td>841.586609</td>\n",
       "      <td>803.400391</td>\n",
       "      <td>229049</td>\n",
       "    </tr>\n",
       "    <tr>\n",
       "      <th>4</th>\n",
       "      <td>2000-06-01</td>\n",
       "      <td>841.586609</td>\n",
       "      <td>841.586609</td>\n",
       "      <td>757.427979</td>\n",
       "      <td>762.378479</td>\n",
       "      <td>727.786377</td>\n",
       "      <td>122163</td>\n",
       "    </tr>\n",
       "  </tbody>\n",
       "</table>\n",
       "</div>"
      ],
      "text/plain": [
       "         Date        Open         High         Low       Close   Adj Close  \\\n",
       "0  2000-02-01  970.299866  1059.409058  891.091736  920.794739  879.014587   \n",
       "1  2000-03-01  940.596802   990.101929  811.883545  920.794739  879.014587   \n",
       "2  2000-04-01  910.893738   920.794739  811.883545  905.943237  864.836853   \n",
       "3  2000-05-01  905.943237   905.943237  826.735107  841.586609  803.400391   \n",
       "4  2000-06-01  841.586609   841.586609  757.427979  762.378479  727.786377   \n",
       "\n",
       "    Volume  \n",
       "0  1994223  \n",
       "1   868375  \n",
       "2   688397  \n",
       "3   229049  \n",
       "4   122163  "
      ]
     },
     "execution_count": 2,
     "metadata": {},
     "output_type": "execute_result"
    }
   ],
   "source": [
    "# Se carga el dataset.\n",
    "latam = pd.read_csv('LATAM.csv')\n",
    "latam.head()"
   ]
  },
  {
   "cell_type": "code",
   "execution_count": 3,
   "id": "93646117",
   "metadata": {
    "scrolled": true
   },
   "outputs": [
    {
     "data": {
      "text/html": [
       "<div>\n",
       "<style scoped>\n",
       "    .dataframe tbody tr th:only-of-type {\n",
       "        vertical-align: middle;\n",
       "    }\n",
       "\n",
       "    .dataframe tbody tr th {\n",
       "        vertical-align: top;\n",
       "    }\n",
       "\n",
       "    .dataframe thead th {\n",
       "        text-align: right;\n",
       "    }\n",
       "</style>\n",
       "<table border=\"1\" class=\"dataframe\">\n",
       "  <thead>\n",
       "    <tr style=\"text-align: right;\">\n",
       "      <th></th>\n",
       "      <th>Date</th>\n",
       "      <th>Open</th>\n",
       "    </tr>\n",
       "  </thead>\n",
       "  <tbody>\n",
       "    <tr>\n",
       "      <th>0</th>\n",
       "      <td>2000-02-01</td>\n",
       "      <td>970.299866</td>\n",
       "    </tr>\n",
       "    <tr>\n",
       "      <th>1</th>\n",
       "      <td>2000-03-01</td>\n",
       "      <td>940.596802</td>\n",
       "    </tr>\n",
       "    <tr>\n",
       "      <th>2</th>\n",
       "      <td>2000-04-01</td>\n",
       "      <td>910.893738</td>\n",
       "    </tr>\n",
       "    <tr>\n",
       "      <th>3</th>\n",
       "      <td>2000-05-01</td>\n",
       "      <td>905.943237</td>\n",
       "    </tr>\n",
       "    <tr>\n",
       "      <th>4</th>\n",
       "      <td>2000-06-01</td>\n",
       "      <td>841.586609</td>\n",
       "    </tr>\n",
       "  </tbody>\n",
       "</table>\n",
       "</div>"
      ],
      "text/plain": [
       "         Date        Open\n",
       "0  2000-02-01  970.299866\n",
       "1  2000-03-01  940.596802\n",
       "2  2000-04-01  910.893738\n",
       "3  2000-05-01  905.943237\n",
       "4  2000-06-01  841.586609"
      ]
     },
     "execution_count": 3,
     "metadata": {},
     "output_type": "execute_result"
    }
   ],
   "source": [
    "# Trabajaremos solo con las columnas Date y Open.\n",
    "latam = latam[['Date', 'Open']]\n",
    "latam.head()"
   ]
  },
  {
   "cell_type": "code",
   "execution_count": 4,
   "id": "cf09a62c",
   "metadata": {},
   "outputs": [
    {
     "data": {
      "text/plain": [
       "(264, 2)"
      ]
     },
     "execution_count": 4,
     "metadata": {},
     "output_type": "execute_result"
    }
   ],
   "source": [
    "# Tamaño del dataFrame\n",
    "latam.shape"
   ]
  },
  {
   "cell_type": "code",
   "execution_count": 5,
   "id": "8ff2c80b",
   "metadata": {},
   "outputs": [
    {
     "data": {
      "text/plain": [
       "Date    0\n",
       "Open    0\n",
       "dtype: int64"
      ]
     },
     "execution_count": 5,
     "metadata": {},
     "output_type": "execute_result"
    }
   ],
   "source": [
    "# Revisemos si hay datos nulos en el DataFrame antes de trabajar con ellos.\n",
    "latam.isnull().sum()"
   ]
  },
  {
   "cell_type": "code",
   "execution_count": 6,
   "id": "070e3699",
   "metadata": {
    "scrolled": false
   },
   "outputs": [
    {
     "data": {
      "text/plain": [
       "Date     object\n",
       "Open    float64\n",
       "dtype: object"
      ]
     },
     "execution_count": 6,
     "metadata": {},
     "output_type": "execute_result"
    }
   ],
   "source": [
    "# Revisemos qué tipo de datos son las columnas\n",
    "latam.dtypes"
   ]
  },
  {
   "cell_type": "code",
   "execution_count": 7,
   "id": "f418e30b",
   "metadata": {
    "scrolled": true
   },
   "outputs": [
    {
     "data": {
      "text/plain": [
       "Date    datetime64[ns]\n",
       "Open           float64\n",
       "dtype: object"
      ]
     },
     "execution_count": 7,
     "metadata": {},
     "output_type": "execute_result"
    }
   ],
   "source": [
    "# Transformemos el formato de los datos de la columna Date a formato tiempo.\n",
    "latam['Date'] = pd.to_datetime(latam['Date'])\n",
    "latam.dtypes"
   ]
  },
  {
   "cell_type": "code",
   "execution_count": 8,
   "id": "09b5257a",
   "metadata": {},
   "outputs": [
    {
     "data": {
      "image/png": "[encoded data removed]",
      "text/plain": [
       "<Figure size 432x288 with 1 Axes>"
      ]
     },
     "metadata": {
      "needs_background": "light"
     },
     "output_type": "display_data"
    }
   ],
   "source": [
    "# Gráfico para revisar los datos\n",
    "fig, ax = plt.subplots(constrained_layout = True)\n",
    "\n",
    "# Gráficos\n",
    "sns.lineplot(ax = ax, data = latam, x = 'Date', y = 'Open', color = 'b')\n",
    "\n",
    "# Títulos\n",
    "ax.set_title('Preció acción LATAM', fontsize = 13)\n",
    "\n",
    "# x e y labels\n",
    "ax.set_xlabel('Año')\n",
    "ax.set_ylabel('Precio en CLP')\n",
    "\n",
    "ax.grid()\n",
    "plt.show()"
   ]
  },
  {
   "cell_type": "markdown",
   "id": "1bd803e0",
   "metadata": {},
   "source": [
    "Trabajaremos con un rango específico de fechas:"
   ]
  },
  {
   "cell_type": "code",
   "execution_count": 9,
   "id": "020669c0",
   "metadata": {},
   "outputs": [],
   "source": [
    "# Filtraremos el DataFrame para el año 2016 y 2017.\n",
    "latam_filter = latam[(latam['Date'] >= '2016-01-01') & (latam['Date'] < '2018-01-01')]\n",
    "latam_filter = latam_filter.reset_index(drop = True) # Reseteamos el índice."
   ]
  },
  {
   "cell_type": "code",
   "execution_count": 10,
   "id": "2f230475",
   "metadata": {},
   "outputs": [
    {
     "data": {
      "text/plain": [
       "(264, 2)"
      ]
     },
     "execution_count": 10,
     "metadata": {},
     "output_type": "execute_result"
    }
   ],
   "source": [
    "latam.shape"
   ]
  },
  {
   "cell_type": "code",
   "execution_count": 11,
   "id": "c697d2d5",
   "metadata": {
    "scrolled": true
   },
   "outputs": [
    {
     "data": {
      "image/png": "[encoded data removed]",
      "text/plain": [
       "<Figure size 432x288 with 1 Axes>"
      ]
     },
     "metadata": {
      "needs_background": "light"
     },
     "output_type": "display_data"
    }
   ],
   "source": [
    "# Gráfico para revisar los datos\n",
    "fig, ax = plt.subplots(constrained_layout = True)\n",
    "\n",
    "# Gráficos\n",
    "sns.lineplot(ax = ax, data = latam_filter, x = 'Date', y = 'Open', color = 'b')\n",
    "\n",
    "# Títulos\n",
    "ax.set_title('Preció acción LATAM')\n",
    "\n",
    "# x e y labels\n",
    "ax.set_xlabel('Año')\n",
    "ax.set_ylabel('Precio en CLP')\n",
    "\n",
    "# ticks\n",
    "plt.xticks(rotation = 30)\n",
    "\n",
    "ax.grid()\n",
    "plt.show()"
   ]
  },
  {
   "cell_type": "markdown",
   "id": "8aaac98f",
   "metadata": {},
   "source": [
    "Nos falta crear la segunda variable. Para ello generaremos un arreglo con números aleatorios y luego los ordenaremos. Esta segunda variable simulará ser la demanda mensual de frutos secos en toneladas de la ciudad de Temuco de Chile."
   ]
  },
  {
   "cell_type": "code",
   "execution_count": 12,
   "id": "490a546f",
   "metadata": {},
   "outputs": [
    {
     "data": {
      "text/plain": [
       "array([173, 275, 301, 338, 439, 445, 475, 488, 498, 509, 560, 576, 577,\n",
       "       657, 696, 705, 747, 806, 825, 825, 876, 905, 945, 994])"
      ]
     },
     "execution_count": 12,
     "metadata": {},
     "output_type": "execute_result"
    }
   ],
   "source": [
    "# Creación del arreglo de datos.\n",
    "frutos_secos = np.random.randint(100, 1000, 24)\n",
    "frutos_secos.sort()\n",
    "frutos_secos"
   ]
  },
  {
   "cell_type": "markdown",
   "id": "0b5fd975",
   "metadata": {},
   "source": [
    "Observemos estos datos en un gráfico."
   ]
  },
  {
   "cell_type": "code",
   "execution_count": 13,
   "id": "f28c01d2",
   "metadata": {},
   "outputs": [
    {
     "data": {
      "image/png": "[encoded data removed]",
      "text/plain": [
       "<Figure size 432x288 with 1 Axes>"
      ]
     },
     "metadata": {
      "needs_background": "light"
     },
     "output_type": "display_data"
    }
   ],
   "source": [
    "# Gráfico para revisar los datos\n",
    "fig, ax = plt.subplots(constrained_layout = True)\n",
    "\n",
    "# Gráficos\n",
    "sns.lineplot(ax = ax, data = frutos_secos, color = 'r')\n",
    "\n",
    "# Títulos\n",
    "ax.set_title('Demanda frutos secos en Temuco')\n",
    "\n",
    "# x e y labels\n",
    "ax.set_xlabel('Meses')\n",
    "ax.set_ylabel('Toneladas')\n",
    "\n",
    "ax.grid()\n",
    "plt.show()"
   ]
  },
  {
   "cell_type": "code",
   "execution_count": 14,
   "id": "b4b46cb6",
   "metadata": {
    "scrolled": false
   },
   "outputs": [
    {
     "data": {
      "text/html": [
       "<div>\n",
       "<style scoped>\n",
       "    .dataframe tbody tr th:only-of-type {\n",
       "        vertical-align: middle;\n",
       "    }\n",
       "\n",
       "    .dataframe tbody tr th {\n",
       "        vertical-align: top;\n",
       "    }\n",
       "\n",
       "    .dataframe thead th {\n",
       "        text-align: right;\n",
       "    }\n",
       "</style>\n",
       "<table border=\"1\" class=\"dataframe\">\n",
       "  <thead>\n",
       "    <tr style=\"text-align: right;\">\n",
       "      <th></th>\n",
       "      <th>Date</th>\n",
       "      <th>Open</th>\n",
       "      <th>frutos_secos_ton</th>\n",
       "    </tr>\n",
       "  </thead>\n",
       "  <tbody>\n",
       "    <tr>\n",
       "      <th>0</th>\n",
       "      <td>2016-01-01</td>\n",
       "      <td>3721.800049</td>\n",
       "      <td>173</td>\n",
       "    </tr>\n",
       "    <tr>\n",
       "      <th>1</th>\n",
       "      <td>2016-02-01</td>\n",
       "      <td>3652.399902</td>\n",
       "      <td>275</td>\n",
       "    </tr>\n",
       "    <tr>\n",
       "      <th>2</th>\n",
       "      <td>2016-03-01</td>\n",
       "      <td>3959.399902</td>\n",
       "      <td>301</td>\n",
       "    </tr>\n",
       "    <tr>\n",
       "      <th>3</th>\n",
       "      <td>2016-04-01</td>\n",
       "      <td>4697.299805</td>\n",
       "      <td>338</td>\n",
       "    </tr>\n",
       "    <tr>\n",
       "      <th>4</th>\n",
       "      <td>2016-05-01</td>\n",
       "      <td>4717.000000</td>\n",
       "      <td>439</td>\n",
       "    </tr>\n",
       "  </tbody>\n",
       "</table>\n",
       "</div>"
      ],
      "text/plain": [
       "        Date         Open  frutos_secos_ton\n",
       "0 2016-01-01  3721.800049               173\n",
       "1 2016-02-01  3652.399902               275\n",
       "2 2016-03-01  3959.399902               301\n",
       "3 2016-04-01  4697.299805               338\n",
       "4 2016-05-01  4717.000000               439"
      ]
     },
     "execution_count": 14,
     "metadata": {},
     "output_type": "execute_result"
    }
   ],
   "source": [
    "# Creamos el DataFrame con el que trabajaremos y añadimos la columna de frutos_secos_ton\n",
    "df = latam_filter.copy()\n",
    "df['frutos_secos_ton'] = frutos_secos.tolist()\n",
    "df.head()"
   ]
  },
  {
   "cell_type": "code",
   "execution_count": 15,
   "id": "d738cb4d",
   "metadata": {
    "scrolled": false
   },
   "outputs": [
    {
     "data": {
      "image/png": "[encoded data removed]",
      "text/plain": [
       "<Figure size 432x288 with 2 Axes>"
      ]
     },
     "metadata": {
      "needs_background": "light"
     },
     "output_type": "display_data"
    }
   ],
   "source": [
    "# Gráfico para revisar los datos\n",
    "fig, ax1 = plt.subplots(constrained_layout = True)\n",
    "\n",
    "# Instrucción que nos permite trabajar con 2 ejes y.\n",
    "ax2 = ax1.twinx()\n",
    "\n",
    "# Gráficos\n",
    "sns.lineplot(ax = ax1, data = df, x = 'Date', y = 'Open', color = 'b')\n",
    "sns.lineplot(ax = ax2, data = df, x = 'Date', y = 'frutos_secos_ton', color = 'r')\n",
    "\n",
    "# Títulos\n",
    "ax1.set_title('Acción LATAM / Demanda frutos secos')\n",
    "\n",
    "# x e y labels\n",
    "ax1.set_xlabel('Año')\n",
    "ax1.set_ylabel('Precio en CLP', color = 'b')\n",
    "ax2.set_ylabel('Frutos secos en toneladas', color = 'r')\n",
    "\n",
    "# ticks\n",
    "ax1.tick_params(axis='x', rotation=30)\n",
    "\n",
    "ax1.grid()\n",
    "plt.show()"
   ]
  },
  {
   "cell_type": "markdown",
   "id": "d19261b3",
   "metadata": {},
   "source": [
    "#### Análisis de correlación"
   ]
  },
  {
   "cell_type": "markdown",
   "id": "be9b330a",
   "metadata": {},
   "source": [
    "Del gráfico anterior podemos inferir que existe una correlación lineal positiva entre el precio de la acción de LATAM y la demanda de frutos secos en la ciudad de Temuco, para los años 2016 y 2017. Para corroborar esto, podemos obtener el coeficiente de correlación, el cual está determinado por:\n",
    "\n",
    "$$\\large \\rho=\\frac{S_{xy}}{S_xS_y}$$ Donde:<br>\n",
    "$\\large S_{xy}$: es la covarianza entre $\\large x$ e $\\large y$.<br>\n",
    "$\\large S_x$: es la desviación estándar de la variable $\\large x$.<br>\n",
    "$\\large S_y$: es la desviación estándar de la variable $\\large y$.\n",
    "\n",
    "Python ofrece un método para calcular el coeficiente de correlación  de un DataFrame:"
   ]
  },
  {
   "cell_type": "code",
   "execution_count": 16,
   "id": "b1cfafe9",
   "metadata": {},
   "outputs": [
    {
     "data": {
      "text/html": [
       "<div>\n",
       "<style scoped>\n",
       "    .dataframe tbody tr th:only-of-type {\n",
       "        vertical-align: middle;\n",
       "    }\n",
       "\n",
       "    .dataframe tbody tr th {\n",
       "        vertical-align: top;\n",
       "    }\n",
       "\n",
       "    .dataframe thead th {\n",
       "        text-align: right;\n",
       "    }\n",
       "</style>\n",
       "<table border=\"1\" class=\"dataframe\">\n",
       "  <thead>\n",
       "    <tr style=\"text-align: right;\">\n",
       "      <th></th>\n",
       "      <th>Open</th>\n",
       "      <th>frutos_secos_ton</th>\n",
       "    </tr>\n",
       "  </thead>\n",
       "  <tbody>\n",
       "    <tr>\n",
       "      <th>Open</th>\n",
       "      <td>1.000000</td>\n",
       "      <td>0.940531</td>\n",
       "    </tr>\n",
       "    <tr>\n",
       "      <th>frutos_secos_ton</th>\n",
       "      <td>0.940531</td>\n",
       "      <td>1.000000</td>\n",
       "    </tr>\n",
       "  </tbody>\n",
       "</table>\n",
       "</div>"
      ],
      "text/plain": [
       "                      Open  frutos_secos_ton\n",
       "Open              1.000000          0.940531\n",
       "frutos_secos_ton  0.940531          1.000000"
      ]
     },
     "execution_count": 16,
     "metadata": {},
     "output_type": "execute_result"
    }
   ],
   "source": [
    "# Coeficiente de correlación del DataFrame.\n",
    "r = df.corr()\n",
    "r"
   ]
  },
  {
   "cell_type": "code",
   "execution_count": 17,
   "id": "e8abab4e",
   "metadata": {},
   "outputs": [
    {
     "name": "stdout",
     "output_type": "stream",
     "text": [
      "El coeficiente de correlación entre la variable Open y frutos_secos_ton es: 0.9405311522482803\n"
     ]
    }
   ],
   "source": [
    "print('El coeficiente de correlación entre la variable Open y frutos_secos_ton es:',r.iloc[0,1])"
   ]
  },
  {
   "cell_type": "markdown",
   "id": "404daf30",
   "metadata": {},
   "source": [
    "### Conclusiones"
   ]
  },
  {
   "cell_type": "markdown",
   "id": "3200fc2d",
   "metadata": {},
   "source": [
    "- De acuerdo al valor obtenido del coeficiente de correlación y haciendo uso de la tabla de interpretación vista en clases, podemos decir que la correlación entre el precio de la acción de LATAM y la demanda de frutos secos para el periodo 2016 - 2017 es positiva y de tipo fuerte.\n",
    "<img src= https://static.platzi.com/media/user_upload/tablita-5e6d38e8-8b72-4f20-9c17-8bfa7e11259b.jpg alt=\"drawing\" width=\"250\"/>\n",
    "\n",
    "\n",
    "- Si bien existe una fuerte correlación entre ambas variables, esto no implica causalidad. Es decir el alza en el valor de la acción de LATAM no generará una aumento en la demana de frutos secos en la ciudad de Temuco o viciversa. Más bien la explicación viene dada por el azar o coincidencia; muchos fenómenos pueden presentar correlación en algún momento determinado. Esto desde luego, no implicará causalidad."
   ]
  }
 ],
 "metadata": {
  "kernelspec": {
   "display_name": "Python 3",
   "language": "python",
   "name": "python3"
  },
  "language_info": {
   "codemirror_mode": {
    "name": "ipython",
    "version": 3
   },
   "file_extension": ".py",
   "mimetype": "text/x-python",
   "name": "python",
   "nbconvert_exporter": "python",
   "pygments_lexer": "ipython3",
   "version": "3.8.8"
  }
 },
 "nbformat": 4,
 "nbformat_minor": 5
}
